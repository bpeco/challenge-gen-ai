{
 "cells": [
  {
   "cell_type": "markdown",
   "metadata": {},
   "source": [
    "# Prompt Engineering - Notebook exploratoria\n",
    "\n",
    "Este notebook implementa una **arquitectura RAG básica** para experimentar con diferentes técnicas de prompt engineering en el contexto de una fintech.\n",
    "\n",
    "## Objetivo\n",
    "Construir un sistema RAG simple que permita probar y comparar distintos enfoques de prompting sobre un documento de información financiera.\n",
    "\n",
    "## Secciones del notebook:\n",
    "\n",
    "1. **Cargar y procesar documento** - Procesamiento del PDF y división en chunks\n",
    "2. **Crear índice FAISS** - Vector store para búsqueda semántica  \n",
    "3. **Configurar LLM** - Setup del modelo de lenguaje (GPT-3.5)\n",
    "4. **Función de consulta RAG** - Pipeline básico de recuperación y generación\n",
    "5. **Testing de Prompts** - Experimentación con diferentes técnicas:\n",
    "   - Prompt básico\n",
    "   - Prompt con contexto\n",
    "   - Prompt con rol específico  \n",
    "   - One-shot learning\n",
    "   - Chain-of-thought\n",
    "6. **Comparación rápida** - Primeras impresiones de diferencias y qué estaría aportando cada prompt\n",
    "\n",
    "---\n"
   ]
  },
  {
   "cell_type": "code",
   "execution_count": 1,
   "metadata": {},
   "outputs": [],
   "source": [
    "import os\n",
    "from dotenv import load_dotenv\n",
    "from langchain.text_splitter import RecursiveCharacterTextSplitter\n",
    "from langchain_community.vectorstores import FAISS\n",
    "from langchain_openai import OpenAIEmbeddings, ChatOpenAI\n",
    "from langchain.schema import Document\n",
    "from pypdf import PdfReader\n",
    "import pickle\n",
    "\n",
    "load_dotenv()\n",
    "\n",
    "openai_api_key = os.getenv(\"OPENAI_API_KEY\")\n",
    "assert openai_api_key, \"⚠️ Configura OPENAI_API_KEY en tu .env\"\n"
   ]
  },
  {
   "cell_type": "markdown",
   "metadata": {},
   "source": [
    "## 1. Cargar y procesar documento"
   ]
  },
  {
   "cell_type": "code",
   "execution_count": 2,
   "metadata": {},
   "outputs": [
    {
     "name": "stdout",
     "output_type": "stream",
     "text": [
      "📄 Documento dividido en 33 chunks\n"
     ]
    }
   ],
   "source": [
    "file_path = \"../01_mock_fintech_info.pdf\"\n",
    "\n",
    "def load_document(file_path):\n",
    "    if file_path.endswith('.pdf'):\n",
    "        reader = PdfReader(file_path)\n",
    "        text = \"\\n\".join([page.extract_text() for page in reader.pages])\n",
    "    else:\n",
    "        with open(file_path, 'r', encoding='utf-8') as f:\n",
    "            text = f.read()\n",
    "    return text\n",
    "\n",
    "\n",
    "text = load_document(file_path)\n",
    "\n",
    "\n",
    "splitter = RecursiveCharacterTextSplitter(chunk_size=500, chunk_overlap=100)\n",
    "chunks = splitter.split_text(text)\n",
    "documents = [Document(page_content=chunk) for chunk in chunks]\n",
    "\n",
    "with open(\"../documents.pkl\", \"wb\") as f:\n",
    "    pickle.dump(documents, f)\n",
    "\n",
    "print(f\"📄 Documento dividido en {len(chunks)} chunks\")"
   ]
  },
  {
   "cell_type": "markdown",
   "metadata": {},
   "source": [
    "## 2. Crear índice FAISS"
   ]
  },
  {
   "cell_type": "code",
   "execution_count": 3,
   "metadata": {},
   "outputs": [
    {
     "name": "stdout",
     "output_type": "stream",
     "text": [
      "✅ Índice FAISS creado\n"
     ]
    }
   ],
   "source": [
    "embeddings = OpenAIEmbeddings(openai_api_key=openai_api_key)\n",
    "vectorstore = FAISS.from_documents(documents, embeddings)\n",
    "\n",
    "print(\"✅ Índice FAISS creado\")"
   ]
  },
  {
   "cell_type": "markdown",
   "metadata": {},
   "source": [
    "## 3. Configurar LLM"
   ]
  },
  {
   "cell_type": "code",
   "execution_count": 4,
   "metadata": {},
   "outputs": [
    {
     "name": "stdout",
     "output_type": "stream",
     "text": [
      "🤖 LLM configurado\n"
     ]
    }
   ],
   "source": [
    "llm = ChatOpenAI(\n",
    "    temperature=0.3,\n",
    "    openai_api_key=openai_api_key,\n",
    "    model=\"gpt-3.5-turbo\"\n",
    ")\n",
    "\n",
    "print(\"🤖 LLM configurado\")"
   ]
  },
  {
   "cell_type": "markdown",
   "metadata": {},
   "source": [
    "## 4. Función de consulta RAG"
   ]
  },
  {
   "cell_type": "code",
   "execution_count": 5,
   "metadata": {},
   "outputs": [
    {
     "name": "stdout",
     "output_type": "stream",
     "text": [
      "🔍 Función RAG lista\n"
     ]
    }
   ],
   "source": [
    "def rag_query(question, custom_prompt=None, k=3):\n",
    "    \"\"\"Realiza consulta RAG con prompt.\"\"\"\n",
    "    \n",
    "    docs = vectorstore.similarity_search(question, k=k)\n",
    "    context = \"\\n\\n\".join([doc.page_content for doc in docs])\n",
    "    \n",
    "    default_prompt = \"\"\"Responde la pregunta.\n",
    "\n",
    "\n",
    "                    Pregunta: {question}\n",
    "\n",
    "                    Respuesta:\"\"\"\n",
    "    \n",
    "    prompt_template = custom_prompt or default_prompt\n",
    "    prompt = prompt_template.format(context=context, question=question)\n",
    "    \n",
    "    response = llm.predict(prompt)\n",
    "    return response\n",
    "\n",
    "print(\"🔍 Función RAG lista\")"
   ]
  },
  {
   "cell_type": "markdown",
   "metadata": {},
   "source": [
    "## 5. Testing de Prompts\n",
    "\n",
    "### Pregunta de ejemplo"
   ]
  },
  {
   "cell_type": "code",
   "execution_count": 6,
   "metadata": {},
   "outputs": [],
   "source": [
    "question = \"¿Cómo puedo activar mi tarjeta?\""
   ]
  },
  {
   "cell_type": "markdown",
   "metadata": {},
   "source": [
    "### Prompt Básico"
   ]
  },
  {
   "cell_type": "code",
   "execution_count": 7,
   "metadata": {},
   "outputs": [
    {
     "name": "stdout",
     "output_type": "stream",
     "text": [
      "=== PROMPT BÁSICO ===\n"
     ]
    },
    {
     "name": "stderr",
     "output_type": "stream",
     "text": [
      "/var/folders/pg/nt5xcr_n6rd6qh7kjj9bnkpr0000gp/T/ipykernel_80127/1989793315.py:17: LangChainDeprecationWarning: The method `BaseChatModel.predict` was deprecated in langchain-core 0.1.7 and will be removed in 1.0. Use :meth:`~invoke` instead.\n",
      "  response = llm.predict(prompt)\n"
     ]
    },
    {
     "name": "stdout",
     "output_type": "stream",
     "text": [
      "Para activar tu tarjeta, generalmente puedes hacerlo llamando al número de teléfono que se encuentra en la parte trasera de la tarjeta o ingresando a la página web del emisor de la tarjeta e ingresando la información solicitada para activarla. También puedes activarla en un cajero automático utilizando tu NIP. Es importante seguir las instrucciones específicas proporcionadas por el emisor de la tarjeta para asegurarte de que esté activada correctamente.\n"
     ]
    }
   ],
   "source": [
    "print(\"=== PROMPT BÁSICO ===\")\n",
    "response1 = rag_query(question)\n",
    "print(response1)"
   ]
  },
  {
   "cell_type": "markdown",
   "metadata": {},
   "source": [
    "### Prompt Básico c/ Contexto"
   ]
  },
  {
   "cell_type": "code",
   "execution_count": 8,
   "metadata": {},
   "outputs": [
    {
     "name": "stdout",
     "output_type": "stream",
     "text": [
      "=== PROMPT CON Contexto Básico ===\n",
      "Puedes activar tu tarjeta de tres maneras: desde la app móvil ingresando a la sección 'Tarjetas', en cajeros automáticos de las redes Banelco o Link, o llamando al servicio al cliente. El método más rápido y seguro es a través de la app móvil.\n"
     ]
    }
   ],
   "source": [
    "role_prompt = \"\"\"Responde la pregunta basándote en el contexto.\n",
    "\n",
    "Contexto:\n",
    "{context}\n",
    "\n",
    "Pregunta: {question}\n",
    "\n",
    "Respuesta:\"\"\"\n",
    "\n",
    "print(\"=== PROMPT CON Contexto Básico ===\")\n",
    "response2 = rag_query(question, role_prompt)\n",
    "print(response2)"
   ]
  },
  {
   "cell_type": "markdown",
   "metadata": {},
   "source": [
    "### Prompt con Rol Específico"
   ]
  },
  {
   "cell_type": "code",
   "execution_count": 9,
   "metadata": {},
   "outputs": [
    {
     "name": "stdout",
     "output_type": "stream",
     "text": [
      "=== PROMPT CON ROL ===\n",
      "Puedes activar tu tarjeta de tres maneras diferentes. La forma más rápida y segura es a través de la app móvil. Solo tienes que ingresar a la sección 'Tarjetas', seleccionar 'Activar tarjeta' y completar los datos requeridos, como los últimos 4 dígitos de la tarjeta. También puedes activarla en cajeros automáticos de las redes Banelco o Link, insertando la tarjeta y siguiendo el menú 'Gestión de Tarjetas'. Este método es útil si no tienes acceso temporal a la app. Recuerda no compartir tu PIN o CVV y activar las notificaciones para estar al tanto de tus movimientos. ¡Espero que esta información te sea útil! ¿Hay algo más en lo que pueda ayudarte?\n"
     ]
    }
   ],
   "source": [
    "role_prompt = \"\"\"Eres un asistente virtual especializado en atención al cliente para una fintech. \n",
    "Responde con claridad, precisión y empatía.\n",
    "\n",
    "Contexto:\n",
    "{context}\n",
    "\n",
    "Pregunta: {question}\n",
    "\n",
    "Respuesta:\"\"\"\n",
    "\n",
    "print(\"=== PROMPT CON ROL ===\")\n",
    "response2 = rag_query(question, role_prompt)\n",
    "print(response2)"
   ]
  },
  {
   "cell_type": "markdown",
   "metadata": {},
   "source": [
    "### Prompt con One-Shot Example"
   ]
  },
  {
   "cell_type": "code",
   "execution_count": 10,
   "metadata": {},
   "outputs": [
    {
     "name": "stdout",
     "output_type": "stream",
     "text": [
      "=== PROMPT CON ONE-SHOT ===\n",
      "¡Hola! Para activar tu tarjeta, puedes hacerlo de tres maneras:\n",
      "1. Desde la app móvil: ingresa a la sección 'Tarjetas', selecciona 'Activar tarjeta' y completa los datos requeridos, como los últimos 4 dígitos de la tarjeta. Este método es rápido y seguro.\n",
      "2. En cajeros automáticos de las redes Banelco o Link: inserta la tarjeta y sigue el menú 'Gestión de Tarjetas'. Esta opción es útil si no tienes acceso temporal a la app. Recuerda no compartir tu PIN o CVV y activar las notificaciones para estar al tanto de tus movimientos. ¡Espero que esta información te sea útil!\n"
     ]
    }
   ],
   "source": [
    "oneshot_prompt = \"\"\"Eres un asistente virtual especializado en atención al cliente para una fintech.\n",
    "Siempre responde con claridad, precisión y empatía sobre todo.\n",
    "\n",
    "<< Ejemplo Pregunta >>\n",
    "'Estoy evaluando adquirir una tarjeta de crédito, pero tengo dudas sobre sus condiciones y límites.'\n",
    "<< Fin Ejemplo Pregunta >>\n",
    "\n",
    "<< Ejemplo Respuesta >>\n",
    "'¡Hola! Para tu nueva tarjeta de crédito, las condiciones se establecen según tu perfil financiero, lo que determina un límite adecuado para ti. Además, esta tarjeta ofrece beneficios como acumulación de puntos y descuentos en comercios asociados. Puedes revisar más detalles en el estado de cuenta de nuestra app o contactarnos para asesorarte.'\n",
    "<< Fin Ejemplo Respuesta >>\n",
    "\n",
    "\n",
    "Debes utilizar el siguiente contexto para responder la consulta:\n",
    "<< CONTEXTO >>\n",
    "{context}\n",
    "<< FIN DEL CONTEXTO >>\n",
    "\n",
    "\n",
    "La consulta del usuario es la siguiente:\n",
    "'{question}'\n",
    "\n",
    "Tu respuesta:\n",
    "\"\"\"\n",
    "\n",
    "print(\"=== PROMPT CON ONE-SHOT ===\")\n",
    "response3 = rag_query(question, oneshot_prompt)\n",
    "print(response3)"
   ]
  },
  {
   "cell_type": "markdown",
   "metadata": {},
   "source": [
    "### Prompt con Chain-of-Thought"
   ]
  },
  {
   "cell_type": "code",
   "execution_count": 11,
   "metadata": {},
   "outputs": [
    {
     "name": "stdout",
     "output_type": "stream",
     "text": [
      "=== PROMPT CON CHAIN-OF-THOUGHT ===\n",
      "¡Hola! Para activar tu tarjeta, puedes hacerlo de tres maneras:\n",
      "1. Desde la app móvil: ingresa a la sección 'Tarjetas', selecciona 'Activar tarjeta' y completa los datos requeridos, como los últimos 4 dígitos de la tarjeta. Este método es rápido y seguro.\n",
      "2. En cajeros automáticos de las redes Banelco o Link: inserta la tarjeta y sigue el menú 'Gestión de Tarjetas'. Es útil si no tienes acceso temporal a la app.\n",
      "Recuerda no compartir tu PIN o CVV, y activar las notificaciones para estar al tanto de tus movimientos. ¡Espero que esta información te sea útil!\n"
     ]
    }
   ],
   "source": [
    "cot_prompt = \"\"\"Eres un asistente virtual especializado en atención al cliente para una fintech. \n",
    "Respondes siempre con claridad, precisión y empatía. Tu objetivo es brindar información útil y confiable, adaptada al perfil del usuario.\n",
    "\n",
    "<< EJEMPLO DE CONSULTA >>\n",
    "Estoy evaluando adquirir una tarjeta de crédito, pero tengo dudas sobre sus condiciones y límites.\n",
    "<< FIN DE CONSULTA >>\n",
    "\n",
    "<< EJEMPLO DE RESPUESTA >>\n",
    "¡Hola! Gracias por tu interés en nuestra tarjeta de crédito. Las condiciones varían según tu perfil financiero, lo cual también determina tu límite de crédito. Además, esta tarjeta ofrece beneficios como acumulación de puntos y descuentos en comercios asociados. Para más detalles, revisa tu estado de cuenta en la app o contáctanos y con gusto te asesoraremos.\n",
    "<< FIN DE RESPUESTA >>\n",
    "\n",
    "--- CONTEXTO DISPONIBLE ---\n",
    "{context}\n",
    "--- FIN DEL CONTEXTO ---\n",
    "\n",
    "--- INSTRUCCIONES PARA RESPONDER ---\n",
    "1. Identifica si la consulta es sobre tarjeta de débito, tarjeta de crédito o préstamo.\n",
    "2. Extrae del contexto los beneficios, condiciones o requisitos más relevantes.\n",
    "3. Redacta una respuesta clara, empática y estructurada que resuelva la duda del usuario.\n",
    "--- FIN DE INSTRUCCIONES ---\n",
    "\n",
    "--- CONSULTA DEL USUARIO ---\n",
    "{question}\n",
    "--- FIN DE CONSULTA ---\n",
    "\n",
    "--- RAZONAMIENTO PASO A PASO ---\n",
    "1. \n",
    "2. \n",
    "3. \n",
    "--- FIN DE RAZONAMIENTO ---\n",
    "\n",
    "--- RESPUESTA FINAL ---\n",
    "\"\"\"\n",
    "\n",
    "\n",
    "print(\"=== PROMPT CON CHAIN-OF-THOUGHT ===\")\n",
    "response4 = rag_query(question, cot_prompt)\n",
    "print(response4)"
   ]
  },
  {
   "cell_type": "markdown",
   "metadata": {},
   "source": [
    "## 5. Comparación rápida"
   ]
  },
  {
   "cell_type": "code",
   "execution_count": 12,
   "metadata": {},
   "outputs": [],
   "source": [
    "question = \"Cuántos dolares puedo extraer por día? Por ejemplo, si quiero extraer 500 dolares puedo? Me quedan 500 dolares netos? Si se cobra comisión, de cuánto es, y en cuyo caso, cuánto debería sacar para que me queden 500 dólares netos?\""
   ]
  },
  {
   "cell_type": "code",
   "execution_count": null,
   "metadata": {},
   "outputs": [
    {
     "name": "stdout",
     "output_type": "stream",
     "text": [
      "\n",
      "==================== BÁSICO ====================\n",
      "La cantidad de dólares que puedes extraer por día depende de las políticas de tu banco o entidad financiera. Si se cobra una comisión por la transacción, esta se restará del monto total que deseas retirar. Por lo tanto, si quieres que te queden 500 dólares netos y hay una comisión, deberías calcular cuánto debes retirar para que, después de descontar la comisión, te queden 500 dólares.\n",
      "\n",
      "------------------------------------------------------------\n",
      "\n",
      "==================== CON ROL ====================\n",
      "El límite diario para extracciones en cajeros internacionales es de USD 500, con una comisión por operación que deberás tener en cuenta. Si deseas retirar exactamente 500 dólares netos, te recomendamos considerar el monto de la comisión al momento de realizar la operación. Por ejemplo, si la comisión es de USD 5, deberías extraer un total de USD 505 para que te queden 500 dólares netos. Recuerda que es importante realizar extracciones en lugares seguros y concurridos para tu tranquilidad y seguridad. Si tienes alguna otra pregunta o necesitas más información, no dudes en consultarme. ¡Estoy aquí para ayudarte!\n",
      "\n",
      "------------------------------------------------------------\n",
      "\n",
      "==================== ONE SHOT ====================\n",
      "¡Hola! Para tu tarjeta de débito, el límite de extracción diario en dólares es de USD 500, con una comisión por operación. Si deseas extraer esa cantidad, ten en cuenta que se aplicará la comisión correspondiente. Para que te queden netos 500 dólares, deberías retirar una cantidad mayor para cubrir la comisión. Te recomendaría verificar el monto exacto de la comisión en tu estado de cuenta o contactarnos para más detalles. ¡Espero que esta información te sea útil!\n",
      "\n",
      "------------------------------------------------------------\n",
      "\n",
      "==================== COMBINADO ====================\n",
      "¡Hola! Con nuestra tarjeta de débito, puedes extraer hasta USD 500 diarios en cajeros internacionales, con una comisión por operación. Si decides retirar esa cantidad, ten en cuenta que se descontará el monto de la comisión, por lo que recibirías menos de USD 500 netos en efectivo. Para calcular cuánto debes extraer para obtener USD 500 netos, te recomendaría considerar el monto de la comisión y ajustar tu retiro en consecuencia. Recuerda que es importante realizar extracciones en lugares seguros y concurridos para tu tranquilidad. ¡Espero que esta información te sea útil!\n",
      "\n",
      "------------------------------------------------------------\n"
     ]
    }
   ],
   "source": [
    "def compare_prompts(question, prompts_dict):\n",
    "    \"\"\"Compara diferentes prompts para la misma pregunta.\"\"\"\n",
    "    for name, prompt in prompts_dict.items():\n",
    "        print(f\"\\n{'='*20} {name.upper()} {'='*20}\")\n",
    "        response = rag_query(question, prompt)\n",
    "        print(response)\n",
    "        print(\"\\n\" + \"-\"*60)\n",
    "\n",
    "\n",
    "prompts = {\n",
    "    \"básico\": None,\n",
    "    \"con rol\": role_prompt,\n",
    "    \"one shot\": oneshot_prompt,\n",
    "    \"combinado\": cot_prompt\n",
    "}\n",
    "\n",
    "compare_prompts(question, prompts)"
   ]
  },
  {
   "cell_type": "markdown",
   "metadata": {},
   "source": [
    "\n",
    "<br>\n",
    "\n",
    "---\n",
    "\n",
    "<br>\n",
    "\n"
   ]
  },
  {
   "cell_type": "markdown",
   "metadata": {},
   "source": [
    "## Observaciones preliminares\n",
    "\n",
    "**Diferencias observadas en las respuestas:**\n",
    "\n",
    "- **Prompt básico:** Respuesta genérica sin información específica del documento (no menciona el límite de USD 500). Mucho sentido no tiene claramente porque no tiene información sobre la cual generar la respuesta.\n",
    "- **Con rol:** Habiendo agregado el contexto y especificando el rol, en este caso aporta información específica (USD 500 límite) + tono empático (gracias al rol) + consejos de seguridad + ejemplo numérico concreto (USD 5 comisión)\n",
    "- **One-shot:** Sumando al rol, un ejemplo de respuesta, en este caso se ve una mejora en la forma en la que se dirige al usuario (saludo incial, saludo final, e incluso en las expresiones que usa) Información específica + tono amigable, pero menos detallado que \"con rol\"\n",
    "- **Chain-of-thought:** Similar contenido al one-shot, aunque en este caso no evidencia el razonamiento paso a paso esperado\n",
    "\n",
    "**Patrón clave observado:**\n",
    "- Solo el prompt básico falló en extraer información específica del documento\n",
    "- Los otros tres prompts lograron identificar correctamente el límite de USD 500 \n",
    "- El prompt \"one shot\" fue el más completo: información técnica + ejemplo numérico + consejos adicionales + tono amigable\n",
    "\n",
    "<br>\n",
    "\n",
    "---\n",
    "\n",
    "<br><br>\n",
    "**Próximo paso:** En la siguiente notebook `02_prompt_evaluation.ipynb` profundizo con evaluación cuantitativa usando LLM-as-a-Judge y RAGAS para medir objetivamente estas diferencias."
   ]
  },
  {
   "cell_type": "code",
   "execution_count": null,
   "metadata": {},
   "outputs": [],
   "source": []
  }
 ],
 "metadata": {
  "kernelspec": {
   "display_name": "rag-prompt-testing",
   "language": "python",
   "name": "python3"
  },
  "language_info": {
   "codemirror_mode": {
    "name": "ipython",
    "version": 3
   },
   "file_extension": ".py",
   "mimetype": "text/x-python",
   "name": "python",
   "nbconvert_exporter": "python",
   "pygments_lexer": "ipython3",
   "version": "3.12.7"
  }
 },
 "nbformat": 4,
 "nbformat_minor": 4
}
