{
 "cells": [
  {
   "cell_type": "markdown",
   "metadata": {},
   "source": [
    "# Sistema RAG Simple para Testing de Prompts\n",
    "\n",
    "Notebook para experimentar con diferentes técnicas de prompt engineering en un sistema RAG básico."
   ]
  },
  {
   "cell_type": "code",
   "execution_count": 1,
   "metadata": {},
   "outputs": [],
   "source": [
    "import os\n",
    "from dotenv import load_dotenv\n",
    "from langchain.text_splitter import RecursiveCharacterTextSplitter\n",
    "from langchain_community.vectorstores import FAISS\n",
    "from langchain_openai import OpenAIEmbeddings, ChatOpenAI\n",
    "from langchain.schema import Document\n",
    "from pypdf import PdfReader\n",
    "import pickle\n",
    "\n",
    "load_dotenv()\n",
    "\n",
    "openai_api_key = os.getenv(\"OPENAI_API_KEY\")\n",
    "assert openai_api_key, \"⚠️ Configura OPENAI_API_KEY en tu .env\"\n"
   ]
  },
  {
   "cell_type": "markdown",
   "metadata": {},
   "source": [
    "## 1. Cargar y procesar documento"
   ]
  },
  {
   "cell_type": "code",
   "execution_count": 2,
   "metadata": {},
   "outputs": [
    {
     "name": "stdout",
     "output_type": "stream",
     "text": [
      "📄 Documento dividido en 33 chunks\n"
     ]
    }
   ],
   "source": [
    "file_path = \"01_mock_fintech_info.pdf\"\n",
    "\n",
    "def load_document(file_path):\n",
    "    if file_path.endswith('.pdf'):\n",
    "        reader = PdfReader(file_path)\n",
    "        text = \"\\n\".join([page.extract_text() for page in reader.pages])\n",
    "    else:\n",
    "        with open(file_path, 'r', encoding='utf-8') as f:\n",
    "            text = f.read()\n",
    "    return text\n",
    "\n",
    "\n",
    "text = load_document(file_path)\n",
    "\n",
    "\n",
    "splitter = RecursiveCharacterTextSplitter(chunk_size=500, chunk_overlap=100)\n",
    "chunks = splitter.split_text(text)\n",
    "documents = [Document(page_content=chunk) for chunk in chunks]\n",
    "\n",
    "with open(\"documents.pkl\", \"wb\") as f:\n",
    "    pickle.dump(documents, f)\n",
    "\n",
    "print(f\"📄 Documento dividido en {len(chunks)} chunks\")"
   ]
  },
  {
   "cell_type": "markdown",
   "metadata": {},
   "source": [
    "## 2. Crear índice FAISS"
   ]
  },
  {
   "cell_type": "code",
   "execution_count": 3,
   "metadata": {},
   "outputs": [
    {
     "name": "stdout",
     "output_type": "stream",
     "text": [
      "✅ Índice FAISS creado\n"
     ]
    }
   ],
   "source": [
    "embeddings = OpenAIEmbeddings(openai_api_key=openai_api_key)\n",
    "vectorstore = FAISS.from_documents(documents, embeddings)\n",
    "\n",
    "print(\"✅ Índice FAISS creado\")"
   ]
  },
  {
   "cell_type": "markdown",
   "metadata": {},
   "source": [
    "## 3. Configurar LLM"
   ]
  },
  {
   "cell_type": "code",
   "execution_count": 4,
   "metadata": {},
   "outputs": [
    {
     "name": "stdout",
     "output_type": "stream",
     "text": [
      "🤖 LLM configurado\n"
     ]
    }
   ],
   "source": [
    "llm = ChatOpenAI(\n",
    "    temperature=0.3,\n",
    "    openai_api_key=openai_api_key,\n",
    "    model=\"gpt-3.5-turbo\"\n",
    ")\n",
    "\n",
    "print(\"🤖 LLM configurado\")"
   ]
  },
  {
   "cell_type": "markdown",
   "metadata": {},
   "source": [
    "## 4. Función de consulta RAG"
   ]
  },
  {
   "cell_type": "code",
   "execution_count": 5,
   "metadata": {},
   "outputs": [
    {
     "name": "stdout",
     "output_type": "stream",
     "text": [
      "🔍 Función RAG lista\n"
     ]
    }
   ],
   "source": [
    "def rag_query(question, custom_prompt=None, k=3):\n",
    "    \"\"\"Realiza consulta RAG con prompt.\"\"\"\n",
    "    \n",
    "    docs = vectorstore.similarity_search(question, k=k)\n",
    "    context = \"\\n\\n\".join([doc.page_content for doc in docs])\n",
    "    \n",
    "    default_prompt = \"\"\"Responde la pregunta.\n",
    "\n",
    "\n",
    "                    Pregunta: {question}\n",
    "\n",
    "                    Respuesta:\"\"\"\n",
    "    \n",
    "    prompt_template = custom_prompt or default_prompt\n",
    "    prompt = prompt_template.format(context=context, question=question)\n",
    "    \n",
    "    response = llm.predict(prompt)\n",
    "    return response\n",
    "\n",
    "print(\"🔍 Función RAG lista\")"
   ]
  },
  {
   "cell_type": "markdown",
   "metadata": {},
   "source": [
    "## 5. Testing de Prompts\n",
    "\n",
    "### Pregunta de ejemplo"
   ]
  },
  {
   "cell_type": "code",
   "execution_count": 6,
   "metadata": {},
   "outputs": [],
   "source": [
    "question = \"¿Cómo puedo activar mi tarjeta?\""
   ]
  },
  {
   "cell_type": "markdown",
   "metadata": {},
   "source": [
    "### Prompt Básico"
   ]
  },
  {
   "cell_type": "code",
   "execution_count": 7,
   "metadata": {},
   "outputs": [
    {
     "name": "stdout",
     "output_type": "stream",
     "text": [
      "=== PROMPT BÁSICO ===\n"
     ]
    },
    {
     "name": "stderr",
     "output_type": "stream",
     "text": [
      "/var/folders/pg/nt5xcr_n6rd6qh7kjj9bnkpr0000gp/T/ipykernel_90043/1989793315.py:17: LangChainDeprecationWarning: The method `BaseChatModel.predict` was deprecated in langchain-core 0.1.7 and will be removed in 1.0. Use :meth:`~invoke` instead.\n",
      "  response = llm.predict(prompt)\n"
     ]
    },
    {
     "name": "stdout",
     "output_type": "stream",
     "text": [
      "Para activar tu tarjeta, generalmente puedes hacerlo llamando al número de teléfono que se encuentra en la parte trasera de la tarjeta o a través de la página web del emisor de la tarjeta. También puedes activarla en un cajero automático utilizando tu NIP. Es importante seguir las instrucciones específicas proporcionadas por el emisor de la tarjeta para asegurarte de que se active correctamente.\n"
     ]
    }
   ],
   "source": [
    "print(\"=== PROMPT BÁSICO ===\")\n",
    "response1 = rag_query(question)\n",
    "print(response1)"
   ]
  },
  {
   "cell_type": "markdown",
   "metadata": {},
   "source": [
    "### Prompt Básico c/ Contexto"
   ]
  },
  {
   "cell_type": "code",
   "execution_count": 8,
   "metadata": {},
   "outputs": [
    {
     "name": "stdout",
     "output_type": "stream",
     "text": [
      "=== PROMPT CON Contexto Básico ===\n",
      "Puedes activar tu tarjeta de tres maneras: desde la app móvil ingresando a la sección 'Tarjetas', en cajeros automáticos de las redes Banelco o Link, o llamando al servicio al cliente.\n"
     ]
    }
   ],
   "source": [
    "role_prompt = \"\"\"Responde la pregunta basándote en el contexto.\n",
    "\n",
    "Contexto:\n",
    "{context}\n",
    "\n",
    "Pregunta: {question}\n",
    "\n",
    "Respuesta:\"\"\"\n",
    "\n",
    "print(\"=== PROMPT CON Contexto Básico ===\")\n",
    "response2 = rag_query(question, role_prompt)\n",
    "print(response2)"
   ]
  },
  {
   "cell_type": "markdown",
   "metadata": {},
   "source": [
    "### Prompt con Rol Específico"
   ]
  },
  {
   "cell_type": "code",
   "execution_count": 9,
   "metadata": {},
   "outputs": [
    {
     "name": "stdout",
     "output_type": "stream",
     "text": [
      "=== PROMPT CON ROL ===\n",
      "Puedes activar tu tarjeta de tres maneras diferentes. La forma más rápida y segura es a través de la app móvil. Solo tienes que ingresar a la sección 'Tarjetas', seleccionar 'Activar tarjeta' y completar los datos requeridos, como los últimos 4 dígitos de la tarjeta. También puedes activarla en cajeros automáticos de las redes Banelco o Link, insertando la tarjeta y siguiendo el menú 'Gestión de Tarjetas'. Este método es útil si no tienes acceso temporal a la app. ¡Espero que esta información te sea útil! Si tienes alguna otra pregunta, no dudes en decírmelo.\n"
     ]
    }
   ],
   "source": [
    "role_prompt = \"\"\"Eres un asistente virtual especializado en atención al cliente para una fintech. \n",
    "Responde con claridad, precisión y empatía.\n",
    "\n",
    "Contexto:\n",
    "{context}\n",
    "\n",
    "Pregunta: {question}\n",
    "\n",
    "Respuesta:\"\"\"\n",
    "\n",
    "print(\"=== PROMPT CON ROL ===\")\n",
    "response2 = rag_query(question, role_prompt)\n",
    "print(response2)"
   ]
  },
  {
   "cell_type": "markdown",
   "metadata": {},
   "source": [
    "### Prompt con One-Shot Example"
   ]
  },
  {
   "cell_type": "code",
   "execution_count": 10,
   "metadata": {},
   "outputs": [
    {
     "name": "stdout",
     "output_type": "stream",
     "text": [
      "=== PROMPT CON ONE-SHOT ===\n",
      "¡Hola! Para activar tu tarjeta, puedes hacerlo de tres maneras:\n",
      "1. Desde la app móvil: ingresa a la sección 'Tarjetas', selecciona 'Activar tarjeta' y completa los datos requeridos, como los últimos 4 dígitos de la tarjeta. Este método es el más rápido y seguro.\n",
      "2. En cajeros automáticos de las redes Banelco o Link: inserta la tarjeta y sigue el menú 'Gestión de Tarjetas'. Este método es útil si no tienes acceso temporal a la app.\n",
      "Recuerda mantener la seguridad de tu tarjeta, no compartas el PIN o el CVV, y activa las notificaciones para estar al tanto de tus movimientos. ¡Espero que esta información te sea útil!\n"
     ]
    }
   ],
   "source": [
    "oneshot_prompt = \"\"\"Eres un asistente virtual especializado en atención al cliente para una fintech.\n",
    "Siempre responde con claridad, precisión y empatía sobre todo.\n",
    "\n",
    "<< Ejemplo Pregunta >>\n",
    "'Estoy evaluando adquirir una tarjeta de crédito, pero tengo dudas sobre sus condiciones y límites.'\n",
    "<< Fin Ejemplo Pregunta >>\n",
    "\n",
    "<< Ejemplo Respuesta >>\n",
    "'¡Hola! Para tu nueva tarjeta de crédito, las condiciones se establecen según tu perfil financiero, lo que determina un límite adecuado para ti. Además, esta tarjeta ofrece beneficios como acumulación de puntos y descuentos en comercios asociados. Puedes revisar más detalles en el estado de cuenta de nuestra app o contactarnos para asesorarte.'\n",
    "<< Fin Ejemplo Respuesta >>\n",
    "\n",
    "\n",
    "Debes utilizar el siguiente contexto para responder la consulta:\n",
    "<< CONTEXTO >>\n",
    "{context}\n",
    "<< FIN DEL CONTEXTO >>\n",
    "\n",
    "\n",
    "La consulta del usuario es la siguiente:\n",
    "'{question}'\n",
    "\n",
    "Tu respuesta:\n",
    "\"\"\"\n",
    "\n",
    "print(\"=== PROMPT CON ONE-SHOT ===\")\n",
    "response3 = rag_query(question, oneshot_prompt)\n",
    "print(response3)"
   ]
  },
  {
   "cell_type": "markdown",
   "metadata": {},
   "source": [
    "### Prompt con Chain-of-Thought"
   ]
  },
  {
   "cell_type": "code",
   "execution_count": 11,
   "metadata": {},
   "outputs": [
    {
     "name": "stdout",
     "output_type": "stream",
     "text": [
      "=== PROMPT CON CHAIN-OF-THOUGHT ===\n",
      "¡Hola! Para activar tu tarjeta, puedes hacerlo de tres maneras: desde la app móvil, en cajeros automáticos de las redes Banelco o Link, o llamando a nuestro centro de atención al cliente. Te recomiendo utilizar la opción desde la app, ya que es la más rápida y segura. Si tienes alguna dificultad, no dudes en contactarnos para recibir asistencia personalizada. ¡Estamos aquí para ayudarte!\n"
     ]
    }
   ],
   "source": [
    "cot_prompt = \"\"\"Eres un asistente virtual especializado en atención al cliente para una fintech. \n",
    "Respondes siempre con claridad, precisión y empatía. Tu objetivo es brindar información útil y confiable, adaptada al perfil del usuario.\n",
    "\n",
    "<< EJEMPLO DE CONSULTA >>\n",
    "Estoy evaluando adquirir una tarjeta de crédito, pero tengo dudas sobre sus condiciones y límites.\n",
    "<< FIN DE CONSULTA >>\n",
    "\n",
    "<< EJEMPLO DE RESPUESTA >>\n",
    "¡Hola! Gracias por tu interés en nuestra tarjeta de crédito. Las condiciones varían según tu perfil financiero, lo cual también determina tu límite de crédito. Además, esta tarjeta ofrece beneficios como acumulación de puntos y descuentos en comercios asociados. Para más detalles, revisa tu estado de cuenta en la app o contáctanos y con gusto te asesoraremos.\n",
    "<< FIN DE RESPUESTA >>\n",
    "\n",
    "--- CONTEXTO DISPONIBLE ---\n",
    "{context}\n",
    "--- FIN DEL CONTEXTO ---\n",
    "\n",
    "--- INSTRUCCIONES PARA RESPONDER ---\n",
    "1. Identifica si la consulta es sobre tarjeta de débito, tarjeta de crédito o préstamo.\n",
    "2. Extrae del contexto los beneficios, condiciones o requisitos más relevantes.\n",
    "3. Redacta una respuesta clara, empática y estructurada que resuelva la duda del usuario.\n",
    "--- FIN DE INSTRUCCIONES ---\n",
    "\n",
    "--- CONSULTA DEL USUARIO ---\n",
    "{question}\n",
    "--- FIN DE CONSULTA ---\n",
    "\n",
    "--- RAZONAMIENTO PASO A PASO ---\n",
    "1. \n",
    "2. \n",
    "3. \n",
    "--- FIN DE RAZONAMIENTO ---\n",
    "\n",
    "--- RESPUESTA FINAL ---\n",
    "\"\"\"\n",
    "\n",
    "\n",
    "print(\"=== PROMPT CON CHAIN-OF-THOUGHT ===\")\n",
    "response4 = rag_query(question, cot_prompt)\n",
    "print(response4)"
   ]
  },
  {
   "cell_type": "markdown",
   "metadata": {},
   "source": [
    "## 5. Comparación rápida"
   ]
  },
  {
   "cell_type": "code",
   "execution_count": 12,
   "metadata": {},
   "outputs": [],
   "source": [
    "question = \"Cuántos dolares puedo extraer por día? Por ejemplo, si quiero extraer 500 dolares puedo? Me quedan 500 dolares netos? Si se cobra comisión, de cuánto es, y en cuyo caso, cuánto debería sacar para que me queden 500 dólares netos?\""
   ]
  },
  {
   "cell_type": "code",
   "execution_count": 13,
   "metadata": {},
   "outputs": [
    {
     "name": "stdout",
     "output_type": "stream",
     "text": [
      "\n",
      "==================== BÁSICO ====================\n",
      "El límite diario de extracción de dólares depende de las políticas de tu banco o entidad financiera. Si quieres extraer 500 dólares y hay una comisión, debes tener en cuenta el monto de la comisión para calcular cuánto debes sacar para que te queden 500 dólares netos. Por ejemplo, si la comisión es de 10 dólares, deberías sacar 510 dólares para que te queden 500 dólares netos.\n",
      "\n",
      "------------------------------------------------------------\n",
      "\n",
      "==================== CON ROL ====================\n",
      "Puedes extraer hasta USD 500 por día con nuestra tarjeta de débito. Sin embargo, ten en cuenta que se cobra una comisión por cada operación de extracción en cajeros internacionales. Para que te queden USD 500 netos, te recomendaría retirar un monto ligeramente superior para cubrir la comisión. Te sugiero retirar alrededor de USD 505 para asegurarte de tener USD 500 disponibles después de la comisión. Recuerda que siempre es importante realizar extracciones en cajeros ubicados en zonas concurridas o en sucursales bancarias para mayor seguridad. ¡Estoy aquí para ayudarte en caso de que tengas más preguntas!\n",
      "\n",
      "------------------------------------------------------------\n",
      "\n",
      "==================== ONE SHOT ====================\n",
      "¡Hola! Con nuestra tarjeta de débito, puedes extraer hasta USD 500 por día en cajeros internacionales, con una comisión por operación. Si deseas retirar exactamente USD 500 netos, te recomendaría considerar esta comisión al momento de realizar la extracción. De esta forma, podrías retirar un monto ligeramente mayor para asegurarte de obtener los USD 500 deseados después de aplicar la comisión. Recuerda que es importante realizar extracciones en lugares seguros, preferiblemente en zonas concurridas o en sucursales bancarias. ¡Estoy aquí para ayudarte en caso de que tengas más preguntas!\n",
      "\n",
      "------------------------------------------------------------\n",
      "\n",
      "==================== COMBINADO ====================\n",
      "¡Hola! Para tu tarjeta de débito, el límite de extracción diario en dólares es de USD 500, con una comisión por operación. Si deseas retirar exactamente USD 500 netos, te recomendaría considerar esta comisión al momento de realizar la operación. De esta forma, podrías retirar un monto ligeramente superior para asegurarte de obtener los USD 500 deseados después de descontar la comisión. Recuerda que es importante realizar extracciones en lugares seguros y concurridos para tu tranquilidad. ¡Espero que esta información te sea útil!\n",
      "\n",
      "------------------------------------------------------------\n"
     ]
    }
   ],
   "source": [
    "# Función para comparar prompts\n",
    "def compare_prompts(question, prompts_dict):\n",
    "    \"\"\"Compara diferentes prompts para la misma pregunta.\"\"\"\n",
    "    for name, prompt in prompts_dict.items():\n",
    "        print(f\"\\n{'='*20} {name.upper()} {'='*20}\")\n",
    "        response = rag_query(question, prompt)\n",
    "        print(response)\n",
    "        print(\"\\n\" + \"-\"*60)\n",
    "\n",
    "\n",
    "prompts = {\n",
    "    \"básico\": None,\n",
    "    \"con rol\": role_prompt,\n",
    "    \"one shot\": oneshot_prompt,\n",
    "    \"combinado\": cot_prompt\n",
    "}\n",
    "\n",
    "compare_prompts(question, prompts)"
   ]
  },
  {
   "cell_type": "code",
   "execution_count": null,
   "metadata": {},
   "outputs": [],
   "source": []
  }
 ],
 "metadata": {
  "kernelspec": {
   "display_name": "base",
   "language": "python",
   "name": "python3"
  },
  "language_info": {
   "codemirror_mode": {
    "name": "ipython",
    "version": 3
   },
   "file_extension": ".py",
   "mimetype": "text/x-python",
   "name": "python",
   "nbconvert_exporter": "python",
   "pygments_lexer": "ipython3",
   "version": "3.12.7"
  }
 },
 "nbformat": 4,
 "nbformat_minor": 4
}
