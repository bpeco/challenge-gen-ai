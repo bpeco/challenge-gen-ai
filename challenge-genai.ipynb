{
 "cells": [
  {
   "cell_type": "markdown",
   "id": "a8ba244a-dff6-4ed1-8d69-02cb0947534e",
   "metadata": {},
   "source": [
    "# 1 - Ejercicio de desarrollo de API para hostear modelo de Machine Learning\n",
    "\n",
    "En este ejercicio deberas desarrollar una **API con FastAPI** que servirá un modelo de Machine Learning (previamente entrenado) para **predecir la supervivencia** de pasajeros del Titanic.\n",
    "\n",
    "---\n",
    "\n",
    "## Objetivo Principal\n",
    "\n",
    "1. **Cargar el modelo** entrenado (un Random Forest que predice `survived`).\n",
    "2. **Ofrecer un endpoint de predicción** que reciba los datos de un pasajero (ej. edad, clase, etc.) y devuelva si sobrevive (`1`) o no (`0`).\n",
    "\n",
    "---\n",
    "\n",
    "## Requerimientos\n",
    "\n",
    "1. **Modelo Entrenado**  \n",
    "   - Utilizar el archivo `modelo_titanic.joblib`.\n",
    "   - Asegurarse de que se cargue correctamente al iniciar la aplicación.\n",
    "\n",
    "2. **Endpoints**  \n",
    "   - **Predicción**: Un endpoint que reciba los datos del pasajero mediante un método (por ejemplo, `POST`) y devuelva la predicción (`0` o `1`).\n",
    "\n",
    "3. **Validación de Datos**  \n",
    "   - Emplear **Pydantic** para validar los campos y tipos de datos que se reciban en el endpoint de predicción.\n",
    "\n",
    "4. **Documentación Automática**  \n",
    "   - Asegurar que la API cuente con la documentación generada por FastAPI (Swagger UI).\n",
    "\n",
    "5. **Entrega**  \n",
    "   - Incluir un archivo `README.md` o similar con instrucciones para ejecutar la API localmente.\n",
    "   - *(Opcional)* Incluir un contenedor Docker para facilitar su despliegue.\n",
    "\n",
    "---\n",
    "\n",
    "## Criterios de Evaluación\n",
    "\n",
    "- **Funcionalidad**:  \n",
    "  La API debe poder cargar el modelo y realizar predicciones correctas.\n",
    "\n",
    "- **Simplicidad y Limpieza**:  \n",
    "  Se evaluará la estructura del proyecto, la legibilidad del código y las buenas prácticas de FastAPI.\n",
    "\n",
    "- **Documentación**:  \n",
    "  Es importante contar con explicaciones básicas en el código y aprovechar la documentación automática de FastAPI.\n",
    "\n",
    "- **Manejo de Errores**:  \n",
    "  La API debe responder adecuadamente ante errores de validación o datos de entrada incorrectos."
   ]
  },
  {
   "cell_type": "code",
   "execution_count": 3,
   "id": "3900c4e4-8e9c-437f-881b-8a2f7884bd93",
   "metadata": {},
   "outputs": [
    {
     "name": "stdout",
     "output_type": "stream",
     "text": [
      "Predicción: No sobrevivió\n"
     ]
    },
    {
     "name": "stderr",
     "output_type": "stream",
     "text": [
      "/opt/anaconda3/lib/python3.12/site-packages/sklearn/base.py:376: InconsistentVersionWarning: Trying to unpickle estimator DecisionTreeClassifier from version 1.4.1.post1 when using version 1.5.1. This might lead to breaking code or invalid results. Use at your own risk. For more info please refer to:\n",
      "https://scikit-learn.org/stable/model_persistence.html#security-maintainability-limitations\n",
      "  warnings.warn(\n",
      "/opt/anaconda3/lib/python3.12/site-packages/sklearn/base.py:376: InconsistentVersionWarning: Trying to unpickle estimator RandomForestClassifier from version 1.4.1.post1 when using version 1.5.1. This might lead to breaking code or invalid results. Use at your own risk. For more info please refer to:\n",
      "https://scikit-learn.org/stable/model_persistence.html#security-maintainability-limitations\n",
      "  warnings.warn(\n"
     ]
    }
   ],
   "source": [
    "# Ejemplo de uso del modelo.\n",
    "\n",
    "import joblib\n",
    "import numpy as np\n",
    "\n",
    "# Cargar el modelo\n",
    "modelo = joblib.load(\"artifacts/modelo_titanic.joblib\")\n",
    "\n",
    "X_prueba = np.array([[3, 1, 22.0, 1, 0, 7.25, 0]])\n",
    "\n",
    "prediccion = modelo.predict(X_prueba)\n",
    "\n",
    "print(\"Predicción:\", \"Sobrevivió\" if prediccion[0] == 1 else \"No sobrevivió\")"
   ]
  },
  {
   "cell_type": "markdown",
   "id": "13d36a77",
   "metadata": {},
   "source": []
  },
  {
   "cell_type": "code",
   "execution_count": null,
   "id": "44586d77",
   "metadata": {
    "vscode": {
     "languageId": "markdown"
    }
   },
   "outputs": [],
   "source": []
  },
  {
   "cell_type": "markdown",
   "id": "1cde753a",
   "metadata": {},
   "source": [
    "## Feature importance analysis\n",
    "\n",
    "- [ ] TO DO --> analizar si puedo prescindir de alguna feature poco importante y aún así predecir, agregando una key en el dict de response con la(s) missing features"
   ]
  },
  {
   "cell_type": "code",
   "execution_count": null,
   "id": "12c633d5",
   "metadata": {},
   "outputs": [
    {
     "data": {
      "image/png": "[encoded data removed]",
      "text/plain": [
       "<Figure size 800x500 with 1 Axes>"
      ]
     },
     "metadata": {},
     "output_type": "display_data"
    }
   ],
   "source": [
    "import matplotlib.pyplot as plt\n",
    "\n",
    "features = ['Pclass', 'Sex', 'Age', 'SibSp', 'Parch', 'Fare', 'Embarked']\n",
    "importances = modelo.feature_importances_\n",
    "normalized_importances = importances / importances.sum()\n",
    "\n",
    "sorted_indices = normalized_importances.argsort()[::-1]\n",
    "sorted_features = [features[i] for i in sorted_indices]\n",
    "sorted_importances = normalized_importances[sorted_indices]\n",
    "\n",
    "\n",
    "\n",
    "plt.figure(figsize=(8, 5))\n",
    "plt.barh(sorted_features, sorted_importances, color='skyblue')\n",
    "plt.xlabel('Normalized Importance')\n",
    "plt.title('Feature Importance (Most to Least Important)')\n",
    "plt.gca().invert_yaxis()\n",
    "plt.show()"
   ]
  },
  {
   "cell_type": "markdown",
   "id": "52b6cc7b-d806-4deb-bb91-ce2621e44cc5",
   "metadata": {},
   "source": [
    "# 2 - Ejercicio de Prompt Engineering para un bot de consultas de una fintech\n",
    "\n",
    "## Objetivo\n",
    "Diseñar un prompt unificado aplicando tecnicas de in-context learning que oriente al modelo a responder consultas de clientes de forma clara, precisa y empática, demostrando además su proceso de razonamiento. La fintech ofrece como productos **tarjetas de débito**, **tarjetas de crédito** y **préstamos**.\n",
    "\n",
    "---\n",
    "\n",
    "## Instrucciones\n",
    "\n",
    "1. **Definir el Rol del Asistente**  \n",
    "   Especifica el rol del modelo:\n",
    "   > \"Eres un asistente virtual especializado en atención al cliente para una fintech que ofrece tarjetas de débito, tarjetas de crédito y préstamos. Responde a las consultas con claridad, precisión y empatía.\"\n",
    "\n",
    "2. **One-Shot**  \n",
    "   Proporciona un único ejemplo para establecer el tono y formato:\n",
    "   - **Ejemplo:**  \n",
    "     - **Entrada:** \"Acabo de recibir mi tarjeta de débito y no sé cómo activarla.\"  \n",
    "     - **Respuesta Esperada:** \"¡Hola! Para activar tu tarjeta de débito, ingresa a nuestra app y sigue las instrucciones enviadas por correo. ¿Necesitas ayuda con algo más?\"\\\n",
    "       \n",
    "3. **Chain-of-Thought**  \n",
    "   Instruye al modelo para que exponga brevemente su razonamiento antes de dar la respuesta final:\n",
    "   > \"Antes de proporcionar la respuesta final, explica brevemente los pasos que sigues:  \n",
    "   > 1. Identifica el tema de la consulta (tarjeta de débito, crédito o préstamo).  \n",
    "   > 2. Recuerda los beneficios, condiciones o requisitos relevantes.  \n",
    "   > 3. Integra la información de forma clara y estructurada en tu respuesta final.\"\n",
    "\n",
    "4. **Consulta Final para el Ejercicio**  \n",
    "   Responde a la siguiente consulta utilizando los tres enfoques:\n",
    "   - **Entrada del Cliente:**  \n",
    "     \"Estoy evaluando adquirir una tarjeta de crédito, pero tengo dudas sobre sus condiciones y límites.\"\n",
    "   - **Proceso (Chain-of-Thought):**  \n",
    "     1. Detecta que se trata de una consulta sobre tarjeta de crédito.  \n",
    "     2. Recuerda que las condiciones incluyen un límite basado en el perfil financiero y beneficios adicionales (puntos, descuentos, etc.), podes agregarle extras o detalles como un plus.\n",
    "     3. Integra estos elementos en la respuesta.\n",
    "   - **Modelo de Respuesta Final:**  \n",
    "     \"¡Hola! Para tu nueva tarjeta de crédito, las condiciones se establecen según tu perfil financiero, lo que determina un límite adecuado para ti. Además, esta tarjeta ofrece beneficios como acumulación de puntos y descuentos en comercios asociados. Puedes revisar más detalles en el estado de cuenta de nuestra app o contactarnos para asesorarte. ¿Te gustaría más información sobre algún aspecto en particular?\"\n",
    "\n",
    "---\n",
    "\n",
    "## Entregables\n",
    "\n",
    "- **Prompt Unificado:**  \n",
    "  Documento que contenga:\n",
    "  - Definición del rol.\n",
    "  - Ejemplos one-shot.\n",
    "  - Instrucciones para el chain-of-thought.\n",
    "  \n",
    "- **Justificación:**  \n",
    "  Breve explicación de cómo se integraron los tres enfoques y cómo ayudan a obtener respuestas de alta calidad.\n",
    "\n",
    "- **Ejemplos de Salidas:**  \n",
    "  Simulaciones o capturas de pantalla demostrando el funcionamiento del prompt en distintos escenarios.\n",
    "\n",
    "\n",
    "- **Definir metodos de evaluacion de este prompt asumiendo que este agendo esta en un entorno productivo**"
   ]
  },
  {
   "cell_type": "markdown",
   "id": "fc0634cd-9cfe-4cea-ac22-d816d8348177",
   "metadata": {},
   "source": [
    "# 3 - Diseño Conceptual de una Arquitectura RAG para Ueno Bank con Amazon Bedrock\n",
    "\n",
    "## **Objetivo**\n",
    "Diseñar una arquitectura **RAG (Retrieval-Augmented Generation)** que permita a los empleados de Ueno Bank consultar información interna proveniente de diferentes fuentes mediante lenguaje natural, utilizando exclusivamente servicios de la nube de AWS.\n",
    "\n",
    "### 1. Identificar Componentes Clave\n",
    "- **Fuentes de Datos:** Documentos internos (PDFs, bases de datos).\n",
    "- **Almacenamiento:** Seleccionar un servicio de almacenamiento escalable para guardar los documentos.\n",
    "- **Indexación y Búsqueda:** Elegir una herramienta o servicio para indexar y facilitar la búsqueda eficiente de la información\n",
    "- **Modelo:** Integrar un LLM que pueda generar respuestas basadas en las consultas realizadas.\n",
    "- **Orquestación y Seguridad:** Definir cómo se gestionarán las llamadas al servicio y disponiblizacion de una API para consumirlo desde un backend.\n",
    "\n",
    "### 2. Crear un Diagrama Básico de la Arquitectura\n",
    "- Representar la interacción entre los componentes mencionados.\n",
    "- Mostrar el flujo de datos desde la consulta del usuario hasta la generación de la respuesta.\n",
    "\n",
    "### 3. Describir Cada Componente\n",
    "- Explicar brevemente el propósito de cada componente.\n",
    "- Justificar la elección de los servicios de AWS seleccionados.\n",
    "\n",
    "### 4. Proponer metodo de evaluacion de retrieval\n",
    "- Explicar que metricas utilizarias y que libreria utilizarias para este fin.\n",
    "<!--  -->\n",
    "## **Formato de Entrega**\n",
    "- **Diagrama de Arquitectura:** Utilizar herramientas como scaldraw o similar para crear un diagrama claro y sencillo.\n",
    "- **Descripción de Componentes:** Documento breve explicando cada parte del diagrama."
   ]
  },
  {
   "cell_type": "code",
   "execution_count": null,
   "id": "00518396-e7c4-4011-b461-f0cccdbf519d",
   "metadata": {},
   "outputs": [],
   "source": []
  }
 ],
 "metadata": {
  "kernelspec": {
   "display_name": "base",
   "language": "python",
   "name": "python3"
  },
  "language_info": {
   "codemirror_mode": {
    "name": "ipython",
    "version": 3
   },
   "file_extension": ".py",
   "mimetype": "text/x-python",
   "name": "python",
   "nbconvert_exporter": "python",
   "pygments_lexer": "ipython3",
   "version": "3.12.7"
  }
 },
 "nbformat": 4,
 "nbformat_minor": 5
}
